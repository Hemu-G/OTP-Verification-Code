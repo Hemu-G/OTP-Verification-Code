{
  "cells": [
    {
      "cell_type": "markdown",
      "id": "bc191f44-2af0-4856-8785-94e0d7546271",
      "metadata": {
        "id": "bc191f44-2af0-4856-8785-94e0d7546271"
      },
      "source": [
        "# OTP_VERIFICATION_CODE_GENERATOR"
      ]
    },
    {
      "cell_type": "code",
      "execution_count": null,
      "id": "f7c9ba64-5515-4535-80b4-5ed571533e13",
      "metadata": {
        "scrolled": true,
        "id": "f7c9ba64-5515-4535-80b4-5ed571533e13"
      },
      "outputs": [],
      "source": [
        "import random\n",
        "import smtplib\n",
        "from email.mime.text import MIMEText\n",
        "\n",
        "otp=random.randint(100000, 999999)\n",
        "\n",
        "sender_email = 'Enter The Sender Email'\n",
        "sender_password = 'Enter The Sender Password'\n",
        "recipient_email = input('Enter your email address: ')\n",
        "\n",
        "msg = MIMEText(f'Your OTP is: {otp}')\n",
        "msg['Subject'] = 'OTP Verification'\n",
        "msg['From'] = sender_email\n",
        "msg['To'] = recipient_email\n",
        "\n",
        "smtp = smtplib.SMTP_SSL('smtp.gmail.com', 465)\n",
        "smtp.login(sender_email, sender_password)\n",
        "smtp.send_message(msg)\n",
        "print('OTP sent successfully.')\n",
        "\n",
        "max_attempts = 3\n",
        "attempts = 0\n",
        "while attempts < max_attempts:\n",
        "    entered_otp = int(input('Enter the OTP received in your email: '))\n",
        "    if entered_otp == otp:\n",
        "        print('OTP Verification successful. Access granted!')\n",
        "        break\n",
        "    else:\n",
        "        print('Invalid OTP. Please try again.')\n",
        "        attempts += 1\n",
        "else:\n",
        "    print('Maximum attempts reached. Access denied.')"
      ]
    },
    {
      "cell_type": "code",
      "execution_count": null,
      "id": "c515ae53-207d-4c48-b966-24030bd9db1f",
      "metadata": {
        "id": "c515ae53-207d-4c48-b966-24030bd9db1f"
      },
      "outputs": [],
      "source": []
    }
  ],
  "metadata": {
    "kernelspec": {
      "display_name": "Python 3 (ipykernel)",
      "language": "python",
      "name": "python3"
    },
    "language_info": {
      "codemirror_mode": {
        "name": "ipython",
        "version": 3
      },
      "file_extension": ".py",
      "mimetype": "text/x-python",
      "name": "python",
      "nbconvert_exporter": "python",
      "pygments_lexer": "ipython3",
      "version": "3.11.5"
    },
    "colab": {
      "provenance": []
    }
  },
  "nbformat": 4,
  "nbformat_minor": 5
}